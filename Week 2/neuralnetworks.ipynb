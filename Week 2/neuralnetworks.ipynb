{
  "cells": [
    {
      "cell_type": "code",
      "source": [
        "import tensorflow as tf\n",
        "from tensorflow.keras.layers import Dense, Flatten, Input\n",
        "from tensorflow.keras.models import Sequential\n",
        "from tensorflow.keras.optimizers import Adam\n",
        "from tensorflow.keras.losses import BinaryCrossentropy\n",
        "\n",
        "# Load dataset\n",
        "dataset = tf.keras.preprocessing.image_dataset_from_directory(\n",
        "    \"/content/extracted_dataset\",\n",
        "    image_size=(64, 64),\n",
        "    label_mode=\"binary\"\n",
        ")\n",
        "\n",
        "# Split into training and testing datasets\n",
        "train_data = dataset.take(8)\n",
        "test_data = dataset.skip(8)\n",
        "train_data = train_data.cache().shuffle(1000).prefetch(buffer_size=tf.data.AUTOTUNE)\n",
        "test_data = test_data.cache().shuffle(1000).prefetch(buffer_size=tf.data.AUTOTUNE)\n",
        "\n",
        "# Preprocess layer to rescale pixel values\n",
        "preprocess = tf.keras.layers.Rescaling(1./255)\n",
        "\n",
        "# Build the model\n",
        "model = Sequential([\n",
        "    Input((64, 64, 3)),\n",
        "    Flatten(),\n",
        "    preprocess,\n",
        "    Dense(128, activation='relu'),\n",
        "    Dense(64, activation='relu'),\n",
        "    Dense(32, activation='relu'),\n",
        "    Dense(1, activation='sigmoid')\n",
        "])\n",
        "\n",
        "# Compile the model\n",
        "model.compile(optimizer=Adam(learning_rate=0.001),\n",
        "              loss=BinaryCrossentropy(),\n",
        "              metrics=['accuracy'])\n",
        "\n",
        "# Train the model\n",
        "model.fit(train_data,\n",
        "          epochs=30,\n",
        "          batch_size=32,\n",
        "          verbose=1,\n",
        "          validation_data=test_data)\n",
        "\n",
        "# Evaluate the model\n",
        "test_loss, test_accuracy = model.evaluate(test_data)\n",
        "print(f'Test Accuracy: {test_accuracy:.2f}')"
      ],
      "metadata": {
        "colab": {
          "base_uri": "https://localhost:8080/"
        },
        "id": "NTUBb9BdQ1MH",
        "outputId": "83fc34fb-3761-416b-81bf-c10e867305ff"
      },
      "execution_count": 168,
      "outputs": [
        {
          "output_type": "stream",
          "name": "stdout",
          "text": [
            "Found 269 files belonging to 2 classes.\n",
            "Epoch 1/30\n",
            "8/8 [==============================] - 2s 46ms/step - loss: 2.1160 - accuracy: 0.5117 - val_loss: 0.8160 - val_accuracy: 0.5385\n",
            "Epoch 2/30\n",
            "8/8 [==============================] - 0s 6ms/step - loss: 0.7955 - accuracy: 0.5820 - val_loss: 0.9092 - val_accuracy: 0.5385\n",
            "Epoch 3/30\n",
            "8/8 [==============================] - 0s 6ms/step - loss: 0.7057 - accuracy: 0.5664 - val_loss: 0.7133 - val_accuracy: 0.5385\n",
            "Epoch 4/30\n",
            "8/8 [==============================] - 0s 9ms/step - loss: 0.6183 - accuracy: 0.6719 - val_loss: 0.5873 - val_accuracy: 0.6154\n",
            "Epoch 5/30\n",
            "8/8 [==============================] - 0s 6ms/step - loss: 0.5624 - accuracy: 0.7383 - val_loss: 0.4834 - val_accuracy: 0.7692\n",
            "Epoch 6/30\n",
            "8/8 [==============================] - 0s 5ms/step - loss: 0.5282 - accuracy: 0.7422 - val_loss: 0.3965 - val_accuracy: 0.8462\n",
            "Epoch 7/30\n",
            "8/8 [==============================] - 0s 6ms/step - loss: 0.4966 - accuracy: 0.7656 - val_loss: 0.3463 - val_accuracy: 0.8462\n",
            "Epoch 8/30\n",
            "8/8 [==============================] - 0s 6ms/step - loss: 0.4896 - accuracy: 0.7891 - val_loss: 0.4822 - val_accuracy: 0.6923\n",
            "Epoch 9/30\n",
            "8/8 [==============================] - 0s 8ms/step - loss: 0.5153 - accuracy: 0.7461 - val_loss: 0.4948 - val_accuracy: 0.6154\n",
            "Epoch 10/30\n",
            "8/8 [==============================] - 0s 5ms/step - loss: 0.4426 - accuracy: 0.8047 - val_loss: 0.2763 - val_accuracy: 0.9231\n",
            "Epoch 11/30\n",
            "8/8 [==============================] - 0s 5ms/step - loss: 0.3854 - accuracy: 0.8359 - val_loss: 0.2525 - val_accuracy: 1.0000\n",
            "Epoch 12/30\n",
            "8/8 [==============================] - 0s 5ms/step - loss: 0.3388 - accuracy: 0.8633 - val_loss: 0.2493 - val_accuracy: 1.0000\n",
            "Epoch 13/30\n",
            "8/8 [==============================] - 0s 6ms/step - loss: 0.3233 - accuracy: 0.8789 - val_loss: 0.1889 - val_accuracy: 1.0000\n",
            "Epoch 14/30\n",
            "8/8 [==============================] - 0s 5ms/step - loss: 0.3701 - accuracy: 0.8125 - val_loss: 0.1936 - val_accuracy: 1.0000\n",
            "Epoch 15/30\n",
            "8/8 [==============================] - 0s 5ms/step - loss: 0.2728 - accuracy: 0.9023 - val_loss: 0.1643 - val_accuracy: 1.0000\n",
            "Epoch 16/30\n",
            "8/8 [==============================] - 0s 6ms/step - loss: 0.2825 - accuracy: 0.8789 - val_loss: 0.1462 - val_accuracy: 1.0000\n",
            "Epoch 17/30\n",
            "8/8 [==============================] - 0s 5ms/step - loss: 0.2392 - accuracy: 0.9297 - val_loss: 0.1487 - val_accuracy: 1.0000\n",
            "Epoch 18/30\n",
            "8/8 [==============================] - 0s 5ms/step - loss: 0.2231 - accuracy: 0.9297 - val_loss: 0.1484 - val_accuracy: 1.0000\n",
            "Epoch 19/30\n",
            "8/8 [==============================] - 0s 6ms/step - loss: 0.2371 - accuracy: 0.9102 - val_loss: 0.1160 - val_accuracy: 1.0000\n",
            "Epoch 20/30\n",
            "8/8 [==============================] - 0s 7ms/step - loss: 0.2151 - accuracy: 0.9219 - val_loss: 0.1952 - val_accuracy: 1.0000\n",
            "Epoch 21/30\n",
            "8/8 [==============================] - 0s 8ms/step - loss: 0.2398 - accuracy: 0.8906 - val_loss: 0.2432 - val_accuracy: 0.9231\n",
            "Epoch 22/30\n",
            "8/8 [==============================] - 0s 7ms/step - loss: 0.2340 - accuracy: 0.9219 - val_loss: 0.1866 - val_accuracy: 0.9231\n",
            "Epoch 23/30\n",
            "8/8 [==============================] - 0s 7ms/step - loss: 0.1958 - accuracy: 0.9062 - val_loss: 0.1733 - val_accuracy: 1.0000\n",
            "Epoch 24/30\n",
            "8/8 [==============================] - 0s 6ms/step - loss: 0.2385 - accuracy: 0.8945 - val_loss: 0.3689 - val_accuracy: 0.7692\n",
            "Epoch 25/30\n",
            "8/8 [==============================] - 0s 8ms/step - loss: 0.2315 - accuracy: 0.9023 - val_loss: 0.0983 - val_accuracy: 1.0000\n",
            "Epoch 26/30\n",
            "8/8 [==============================] - 0s 5ms/step - loss: 0.1403 - accuracy: 0.9570 - val_loss: 0.0522 - val_accuracy: 1.0000\n",
            "Epoch 27/30\n",
            "8/8 [==============================] - 0s 8ms/step - loss: 0.1415 - accuracy: 0.9453 - val_loss: 0.3093 - val_accuracy: 0.8462\n",
            "Epoch 28/30\n",
            "8/8 [==============================] - 0s 6ms/step - loss: 0.2279 - accuracy: 0.8945 - val_loss: 0.0439 - val_accuracy: 1.0000\n",
            "Epoch 29/30\n",
            "8/8 [==============================] - 0s 6ms/step - loss: 0.1433 - accuracy: 0.9453 - val_loss: 0.0417 - val_accuracy: 1.0000\n",
            "Epoch 30/30\n",
            "8/8 [==============================] - 0s 6ms/step - loss: 0.0847 - accuracy: 0.9844 - val_loss: 0.0579 - val_accuracy: 1.0000\n",
            "1/1 [==============================] - 0s 11ms/step - loss: 0.0579 - accuracy: 1.0000\n",
            "Test Accuracy: 1.00\n"
          ]
        }
      ]
    },
    {
      "cell_type": "code",
      "execution_count": 170,
      "metadata": {
        "colab": {
          "base_uri": "https://localhost:8080/",
          "height": 783
        },
        "id": "pqd2AjlxCbpU",
        "outputId": "055d064b-5de8-4376-fd40-203a36fef98f"
      },
      "outputs": [
        {
          "output_type": "stream",
          "name": "stdout",
          "text": [
            "1/1 [==============================] - 0s 18ms/step\n"
          ]
        },
        {
          "output_type": "stream",
          "name": "stderr",
          "text": [
            "<ipython-input-170-7941d751736a>:16: DeprecationWarning: Conversion of an array with ndim > 0 to a scalar is deprecated, and will error in future. Ensure you extract a single element from your array before performing this operation. (Deprecated NumPy 1.25.)\n",
            "  predicted_label = int(predictions[i] > 0.5)\n",
            "<ipython-input-170-7941d751736a>:22: DeprecationWarning: Conversion of an array with ndim > 0 to a scalar is deprecated, and will error in future. Ensure you extract a single element from your array before performing this operation. (Deprecated NumPy 1.25.)\n",
            "  predicted_label = int(predictions[idx] > 0.5)\n",
            "WARNING:matplotlib.image:Clipping input data to the valid range for imshow with RGB data ([0..1] for floats or [0..255] for integers).\n"
          ]
        },
        {
          "output_type": "stream",
          "name": "stdout",
          "text": [
            "Prediction: 1, Prediction Value: 0.9763022661209106, Actual: [1.]\n",
            "Prediction: 1, Prediction Value: 0.9839816689491272, Actual: [1.]\n",
            "Prediction: 0, Prediction Value: 0.01835791952908039, Actual: [0.]\n",
            "Prediction: 1, Prediction Value: 0.973666250705719, Actual: [1.]\n",
            "Prediction: 0, Prediction Value: 0.05749445781111717, Actual: [0.]\n",
            "Prediction: 0, Prediction Value: 0.007003424223512411, Actual: [0.]\n",
            "Prediction: 0, Prediction Value: 0.05750318616628647, Actual: [0.]\n",
            "Prediction: 0, Prediction Value: 0.22898945212364197, Actual: [0.]\n",
            "Prediction: 0, Prediction Value: 0.15305167436599731, Actual: [0.]\n",
            "Prediction: 0, Prediction Value: 0.08611747622489929, Actual: [0.]\n"
          ]
        },
        {
          "output_type": "display_data",
          "data": {
            "text/plain": [
              "<Figure size 500x500 with 1 Axes>"
            ],
            "image/png": "[encoded data removed]"
          },
          "metadata": {}
        }
      ],
      "source": [
        "# Extract images and labels from the test dataset\n",
        "test_images = []\n",
        "test_labels = []\n",
        "for images, labels in test_data.take(-1):\n",
        "    test_images.append(images.numpy())\n",
        "    test_labels.append(labels.numpy())\n",
        "\n",
        "test_images = np.concatenate(test_images)\n",
        "test_labels = np.concatenate(test_labels)\n",
        "\n",
        "# Make predictions on the test data\n",
        "predictions = model.predict(test_images)\n",
        "\n",
        "# Print predictions and labels for debugging\n",
        "for i in range(10):  # Print first 10 predictions\n",
        "    predicted_label = int(predictions[i] > 0.5)\n",
        "    print(f'Prediction: {predicted_label}, Prediction Value: {predictions[i][0]}, Actual: {test_labels[i]}')\n",
        "\n",
        "# Function to plot one random image with its predicted label\n",
        "def plot_one_random_image_with_prediction(images, labels, predictions):\n",
        "    idx = np.random.choice(len(images), 1)[0]\n",
        "    predicted_label = int(predictions[idx] > 0.5)\n",
        "    plt.figure(figsize=(5, 5))\n",
        "    plt.imshow(images[idx])\n",
        "    plt.title(f'Label: {labels[idx]}\\nPred: {predicted_label}\\nPred Value: {predictions[idx][0]:.2f}')\n",
        "    plt.axis('off')\n",
        "    plt.show()\n",
        "\n",
        "# Plot one random test image with its prediction\n",
        "plot_one_random_image_with_prediction(test_images, test_labels, predictions)"
      ]
    }
  ],
  "metadata": {
    "accelerator": "GPU",
    "colab": {
      "gpuType": "T4",
      "provenance": []
    },
    "kernelspec": {
      "display_name": "Python 3",
      "name": "python3"
    },
    "language_info": {
      "name": "python"
    }
  },
  "nbformat": 4,
  "nbformat_minor": 0
}